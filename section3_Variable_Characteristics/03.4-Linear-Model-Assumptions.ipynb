{
 "cells": [
  {
   "cell_type": "markdown",
   "id": "813f1f15",
   "metadata": {},
   "source": [
    "## Linear Model Assumptions\n",
    "\n",
    "Some of the linear regression model assumptions are:\n",
    "\n",
    "- **Linearity**: The mean values of the outcome variable for each increment of the predictor(s) lie along a straight line. In other words, there is a linear relationship between predictors and target.\n",
    "\n",
    "- **No perfect multicollinearity**: There should be no perfect linear relationship between two or more of the predictors. \n",
    "\n",
    "- **Normally distributed errors**: the residuals are random, normally distributed with a mean of 0.\n",
    "\n",
    "- **Homoscedasticity**: At each level of the predictor variable(s), the variance of the residual terms should be constant.\n",
    "\n",
    "Examples of linear models are:\n",
    "\n",
    "- Linear and Logistic Regression\n",
    "- Linear Discriminant Analysis (LDA)\n",
    "\n",
    "\n",
    "**Failure to meet one or more of the model assumptions could end up in a poor model performance**. In other words, the variables do not accurately predict the outcome, with a linear model.\n",
    "\n",
    "If the assumptions are not met, we can:\n",
    "\n",
    "- use a different no-linear model to predict the outcome from the variables\n",
    "- transform the input variables so that they fulfill the assumptions.\n",
    "\n",
    "\n",
    "### Determining if linear model is accurate\n",
    "\n",
    "The main diagnostic to determine if a linear model works well to predict the outcome from the predictors, is to evaluate in the first place, if the error terms, or residuals follow a normal distribution with a mean of zero, and are homoscedastic. If this is true, we can be fairly confident that the model is doing a good job.\n",
    "\n",
    "We can determine normal distribution and homoscedasticity as follows:\n",
    "\n",
    "- Normal distribution can be assessed by Q-Q plots\n",
    "- Homoscedasticity can be assessed by residuals plots\n",
    "\n",
    "\n",
    "If we would also like to test the other assumptions:\n",
    "\n",
    "- Linear regression can be assessed by scatter-plots and residuals plots\n",
    "- Multi-colinearity can be assessed by correlation matrices\n",
    "\n",
    "\n",
    "### If the assumptions are not met\n",
    "\n",
    "Sometimes variable transformation can help the variables meet the model assumptions. We normally do 1 of 2 things:\n",
    "\n",
    "- Mathematical transformation of the variables\n",
    "- Discretisation\n",
    "\n",
    "\n",
    "**I will cover mathematical transformations and discretisation in later sections of the course**. \n",
    "\n",
    "\n",
    "## In this demo...\n",
    "\n",
    "We will:\n",
    "\n",
    "- Train a linear model to predict a target from 3 predictor variables\n",
    "- Evaluate if the model is accurate by examining the residuals\n",
    "- Determine if the residuals are normally distributed\n",
    "- If there is homoscedasticity\n",
    "- We will then transform the data and see how this improves model performance\n",
    "- We will then move on to examine Correlation and Linear relationship between variables and outcome"
   ]
  },
  {
   "cell_type": "code",
   "execution_count": 1,
   "id": "ca20fdc0",
   "metadata": {},
   "outputs": [],
   "source": [
    "import pandas as pd\n",
    "import numpy as np\n",
    "\n",
    "#for ploting\n",
    "\n",
    "import matplotlib.pyplot as plt\n",
    "import seaborn as sns\n",
    "\n",
    "#for Q-Q plots\n",
    "\n",
    "import scipy.stats as stats\n",
    "\n",
    "#for the dataset for the demo\n",
    "\n",
    "from sklearn.datasets import load_boston\n",
    "\n",
    "#for linear regression model\n",
    "from sklearn.linear_model import LinearRegression\n",
    "\n",
    "#to split and standarize the dataset\n",
    "from sklearn.model_selection import train_test_split\n",
    "from sklearn.preprocessing import StandardScaler\n",
    "\n",
    "#to evalutate the regression model\n",
    "from sklearn.metrics import mean_squared_error\n"
   ]
  },
  {
   "cell_type": "code",
   "execution_count": 2,
   "id": "c90bd457",
   "metadata": {},
   "outputs": [
    {
     "data": {
      "text/html": [
       "<div>\n",
       "<style scoped>\n",
       "    .dataframe tbody tr th:only-of-type {\n",
       "        vertical-align: middle;\n",
       "    }\n",
       "\n",
       "    .dataframe tbody tr th {\n",
       "        vertical-align: top;\n",
       "    }\n",
       "\n",
       "    .dataframe thead th {\n",
       "        text-align: right;\n",
       "    }\n",
       "</style>\n",
       "<table border=\"1\" class=\"dataframe\">\n",
       "  <thead>\n",
       "    <tr style=\"text-align: right;\">\n",
       "      <th></th>\n",
       "      <th>CRIM</th>\n",
       "      <th>ZN</th>\n",
       "      <th>INDUS</th>\n",
       "      <th>CHAS</th>\n",
       "      <th>NOX</th>\n",
       "      <th>RM</th>\n",
       "      <th>AGE</th>\n",
       "      <th>DIS</th>\n",
       "      <th>RAD</th>\n",
       "      <th>TAX</th>\n",
       "      <th>PTRATIO</th>\n",
       "      <th>B</th>\n",
       "      <th>LSTAT</th>\n",
       "      <th>MEDV</th>\n",
       "    </tr>\n",
       "  </thead>\n",
       "  <tbody>\n",
       "    <tr>\n",
       "      <th>0</th>\n",
       "      <td>0.00632</td>\n",
       "      <td>18.0</td>\n",
       "      <td>2.31</td>\n",
       "      <td>0.0</td>\n",
       "      <td>0.538</td>\n",
       "      <td>6.575</td>\n",
       "      <td>65.2</td>\n",
       "      <td>4.0900</td>\n",
       "      <td>1.0</td>\n",
       "      <td>296.0</td>\n",
       "      <td>15.3</td>\n",
       "      <td>396.90</td>\n",
       "      <td>4.98</td>\n",
       "      <td>24.0</td>\n",
       "    </tr>\n",
       "    <tr>\n",
       "      <th>1</th>\n",
       "      <td>0.02731</td>\n",
       "      <td>0.0</td>\n",
       "      <td>7.07</td>\n",
       "      <td>0.0</td>\n",
       "      <td>0.469</td>\n",
       "      <td>6.421</td>\n",
       "      <td>78.9</td>\n",
       "      <td>4.9671</td>\n",
       "      <td>2.0</td>\n",
       "      <td>242.0</td>\n",
       "      <td>17.8</td>\n",
       "      <td>396.90</td>\n",
       "      <td>9.14</td>\n",
       "      <td>21.6</td>\n",
       "    </tr>\n",
       "    <tr>\n",
       "      <th>2</th>\n",
       "      <td>0.02729</td>\n",
       "      <td>0.0</td>\n",
       "      <td>7.07</td>\n",
       "      <td>0.0</td>\n",
       "      <td>0.469</td>\n",
       "      <td>7.185</td>\n",
       "      <td>61.1</td>\n",
       "      <td>4.9671</td>\n",
       "      <td>2.0</td>\n",
       "      <td>242.0</td>\n",
       "      <td>17.8</td>\n",
       "      <td>392.83</td>\n",
       "      <td>4.03</td>\n",
       "      <td>34.7</td>\n",
       "    </tr>\n",
       "    <tr>\n",
       "      <th>3</th>\n",
       "      <td>0.03237</td>\n",
       "      <td>0.0</td>\n",
       "      <td>2.18</td>\n",
       "      <td>0.0</td>\n",
       "      <td>0.458</td>\n",
       "      <td>6.998</td>\n",
       "      <td>45.8</td>\n",
       "      <td>6.0622</td>\n",
       "      <td>3.0</td>\n",
       "      <td>222.0</td>\n",
       "      <td>18.7</td>\n",
       "      <td>394.63</td>\n",
       "      <td>2.94</td>\n",
       "      <td>33.4</td>\n",
       "    </tr>\n",
       "    <tr>\n",
       "      <th>4</th>\n",
       "      <td>0.06905</td>\n",
       "      <td>0.0</td>\n",
       "      <td>2.18</td>\n",
       "      <td>0.0</td>\n",
       "      <td>0.458</td>\n",
       "      <td>7.147</td>\n",
       "      <td>54.2</td>\n",
       "      <td>6.0622</td>\n",
       "      <td>3.0</td>\n",
       "      <td>222.0</td>\n",
       "      <td>18.7</td>\n",
       "      <td>396.90</td>\n",
       "      <td>5.33</td>\n",
       "      <td>36.2</td>\n",
       "    </tr>\n",
       "  </tbody>\n",
       "</table>\n",
       "</div>"
      ],
      "text/plain": [
       "      CRIM    ZN  INDUS  CHAS    NOX     RM   AGE     DIS  RAD    TAX  \\\n",
       "0  0.00632  18.0   2.31   0.0  0.538  6.575  65.2  4.0900  1.0  296.0   \n",
       "1  0.02731   0.0   7.07   0.0  0.469  6.421  78.9  4.9671  2.0  242.0   \n",
       "2  0.02729   0.0   7.07   0.0  0.469  7.185  61.1  4.9671  2.0  242.0   \n",
       "3  0.03237   0.0   2.18   0.0  0.458  6.998  45.8  6.0622  3.0  222.0   \n",
       "4  0.06905   0.0   2.18   0.0  0.458  7.147  54.2  6.0622  3.0  222.0   \n",
       "\n",
       "   PTRATIO       B  LSTAT  MEDV  \n",
       "0     15.3  396.90   4.98  24.0  \n",
       "1     17.8  396.90   9.14  21.6  \n",
       "2     17.8  392.83   4.03  34.7  \n",
       "3     18.7  394.63   2.94  33.4  \n",
       "4     18.7  396.90   5.33  36.2  "
      ]
     },
     "execution_count": 2,
     "metadata": {},
     "output_type": "execute_result"
    }
   ],
   "source": [
    "#load the boston dataset\n",
    "boston_dataset = load_boston()\n",
    "\n",
    "#Creating a dataframe woth the independent variables\n",
    "boston = pd.DataFrame(boston_dataset.data,\n",
    "                         columns=boston_dataset.feature_names)\n",
    "\n",
    "#add the target\n",
    "\n",
    "boston['MEDV'] = boston_dataset.target\n",
    "boston.head()"
   ]
  },
  {
   "cell_type": "code",
   "execution_count": 3,
   "id": "8b71366f",
   "metadata": {},
   "outputs": [
    {
     "name": "stdout",
     "output_type": "stream",
     "text": [
      ".. _boston_dataset:\n",
      "\n",
      "Boston house prices dataset\n",
      "---------------------------\n",
      "\n",
      "**Data Set Characteristics:**  \n",
      "\n",
      "    :Number of Instances: 506 \n",
      "\n",
      "    :Number of Attributes: 13 numeric/categorical predictive. Median Value (attribute 14) is usually the target.\n",
      "\n",
      "    :Attribute Information (in order):\n",
      "        - CRIM     per capita crime rate by town\n",
      "        - ZN       proportion of residential land zoned for lots over 25,000 sq.ft.\n",
      "        - INDUS    proportion of non-retail business acres per town\n",
      "        - CHAS     Charles River dummy variable (= 1 if tract bounds river; 0 otherwise)\n",
      "        - NOX      nitric oxides concentration (parts per 10 million)\n",
      "        - RM       average number of rooms per dwelling\n",
      "        - AGE      proportion of owner-occupied units built prior to 1940\n",
      "        - DIS      weighted distances to five Boston employment centres\n",
      "        - RAD      index of accessibility to radial highways\n",
      "        - TAX      full-value property-tax rate per $10,000\n",
      "        - PTRATIO  pupil-teacher ratio by town\n",
      "        - B        1000(Bk - 0.63)^2 where Bk is the proportion of blacks by town\n",
      "        - LSTAT    % lower status of the population\n",
      "        - MEDV     Median value of owner-occupied homes in $1000's\n",
      "\n",
      "    :Missing Attribute Values: None\n",
      "\n",
      "    :Creator: Harrison, D. and Rubinfeld, D.L.\n",
      "\n",
      "This is a copy of UCI ML housing dataset.\n",
      "https://archive.ics.uci.edu/ml/machine-learning-databases/housing/\n",
      "\n",
      "\n",
      "This dataset was taken from the StatLib library which is maintained at Carnegie Mellon University.\n",
      "\n",
      "The Boston house-price data of Harrison, D. and Rubinfeld, D.L. 'Hedonic\n",
      "prices and the demand for clean air', J. Environ. Economics & Management,\n",
      "vol.5, 81-102, 1978.   Used in Belsley, Kuh & Welsch, 'Regression diagnostics\n",
      "...', Wiley, 1980.   N.B. Various transformations are used in the table on\n",
      "pages 244-261 of the latter.\n",
      "\n",
      "The Boston house-price data has been used in many machine learning papers that address regression\n",
      "problems.   \n",
      "     \n",
      ".. topic:: References\n",
      "\n",
      "   - Belsley, Kuh & Welsch, 'Regression diagnostics: Identifying Influential Data and Sources of Collinearity', Wiley, 1980. 244-261.\n",
      "   - Quinlan,R. (1993). Combining Instance-Based and Model-Based Learning. In Proceedings on the Tenth International Conference of Machine Learning, 236-243, University of Massachusetts, Amherst. Morgan Kaufmann.\n",
      "\n"
     ]
    }
   ],
   "source": [
    "# this is the information about the boston house prince dataset\n",
    "# in case you would like to get familiar with the variables before \n",
    "# continuing with the notebook\n",
    "\n",
    "# the aim is to predict the \"Median house value (price)\"\n",
    "# MEDV column of this dataset\n",
    "\n",
    "# and we have variables with characteristics about\n",
    "# the homes and the neighborhoods\n",
    "\n",
    "\n",
    "\n",
    "print(boston_dataset.DESCR)"
   ]
  },
  {
   "cell_type": "markdown",
   "id": "1a7eae13",
   "metadata": {},
   "source": [
    "<h3> Building a linear model"
   ]
  },
  {
   "cell_type": "code",
   "execution_count": 4,
   "id": "352745a6",
   "metadata": {},
   "outputs": [
    {
     "data": {
      "text/plain": [
       "((354, 3), (152, 3), (354,), (152,))"
      ]
     },
     "execution_count": 4,
     "metadata": {},
     "output_type": "execute_result"
    }
   ],
   "source": [
    "# to train and evaluate the model, let's first split into\n",
    "# train and test data, using 3 variables of choice:\n",
    "# LSTAT, RM and CRIM\n",
    "\n",
    "# let's separate into training and testing set\n",
    "# using the sklearn function below\n",
    "\n",
    "X_train, X_test, y_train, y_test = train_test_split(boston[['LSTAT','RM','CRIM']],\n",
    "                                                    boston['MEDV'],\n",
    "                                                    test_size = 0.30,\n",
    "                                                    random_state = 0)\n",
    "X_train.shape, X_test.shape, y_train.shape, y_test.shape"
   ]
  },
  {
   "cell_type": "code",
   "execution_count": 5,
   "id": "78a294d1",
   "metadata": {},
   "outputs": [
    {
     "data": {
      "text/plain": [
       "StandardScaler()"
      ]
     },
     "execution_count": 5,
     "metadata": {},
     "output_type": "execute_result"
    }
   ],
   "source": [
    "# let's scale the features\n",
    "# normal procedure for linear models\n",
    "# I will explain this later in in the course\n",
    "\n",
    "scaler = StandardScaler()\n",
    "scaler.fit(X_train)"
   ]
  },
  {
   "cell_type": "code",
   "execution_count": 6,
   "id": "920c4686",
   "metadata": {},
   "outputs": [
    {
     "data": {
      "text/plain": [
       "LinearRegression()"
      ]
     },
     "execution_count": 6,
     "metadata": {},
     "output_type": "execute_result"
    }
   ],
   "source": [
    "# let's build a linear model using the data as loaded from sklearn\n",
    "\n",
    "# instantiate a lineear model\n",
    "\n",
    "linreg = LinearRegression()\n",
    "\n",
    "linreg.fit(scaler.transform(X_train), y_train)"
   ]
  },
  {
   "cell_type": "code",
   "execution_count": 7,
   "id": "2c13a1de",
   "metadata": {},
   "outputs": [
    {
     "name": "stdout",
     "output_type": "stream",
     "text": [
      "Train set\n",
      "Linear Regression Mean Squared Error :  28.603232128198886\n",
      "Test set\n",
      "Linear Regression Mean Squared Error :  33.20006295308441\n"
     ]
    }
   ],
   "source": [
    "# make predictions on the train set and calculate\n",
    "# the mean squared error\n",
    "\n",
    "print('Train set')\n",
    "pred = linreg.predict(scaler.transform(X_train))\n",
    "print(\"Linear Regression Mean Squared Error : \", mean_squared_error(y_train, pred))\n",
    "\n",
    "# make predictions on the test set and calculate\n",
    "# the mean squared error\n",
    "print('Test set')\n",
    "pred = linreg.predict(scaler.transform(X_test))\n",
    "print(\"Linear Regression Mean Squared Error : \", mean_squared_error(y_test, pred))\n"
   ]
  },
  {
   "cell_type": "markdown",
   "id": "171a6055",
   "metadata": {},
   "source": [
    "<h3>Calculate the residuals"
   ]
  },
  {
   "cell_type": "code",
   "execution_count": 8,
   "id": "8f4c55d2",
   "metadata": {},
   "outputs": [],
   "source": [
    "#calculate the residuals\n",
    "\n",
    "error = y_test - pred"
   ]
  },
  {
   "cell_type": "markdown",
   "id": "b909c111",
   "metadata": {},
   "source": [
    "<h3>Test residual normality"
   ]
  },
  {
   "cell_type": "code",
   "execution_count": 9,
   "id": "26be169c",
   "metadata": {},
   "outputs": [
    {
     "data": {
      "text/plain": [
       "<AxesSubplot:xlabel='MEDV', ylabel='Count'>"
      ]
     },
     "execution_count": 9,
     "metadata": {},
     "output_type": "execute_result"
    },
    {
     "data": {
      "image/png": "[encoded data removed]",
      "text/plain": [
       "<Figure size 432x288 with 1 Axes>"
      ]
     },
     "metadata": {
      "needs_background": "light"
     },
     "output_type": "display_data"
    }
   ],
   "source": [
    "# we will make a histogram to determine if the residuals\n",
    "# are normally distributed with mean value at 0\n",
    "\n",
    "sns.histplot(error, bins =30)"
   ]
  },
  {
   "cell_type": "markdown",
   "id": "f41618a8",
   "metadata": {},
   "source": [
    "We see that the residuals show a fairly normal distribution centered at 0. Not perfect, by visual inspection there is some skew towards the left, with a few higher unusual values towards the right of the distribution."
   ]
  },
  {
   "cell_type": "code",
   "execution_count": 10,
   "id": "f5f2f8ee",
   "metadata": {},
   "outputs": [
    {
     "data": {
      "image/png": "[encoded data removed]",
      "text/plain": [
       "<Figure size 432x288 with 1 Axes>"
      ]
     },
     "metadata": {
      "needs_background": "light"
     },
     "output_type": "display_data"
    }
   ],
   "source": [
    "# we can better visualize residuals distribution with \n",
    "# a Q-Q plot. If the residuals are normally distributed\n",
    "# the dots should adjust to the 45 degree line\n",
    "\n",
    "stats.probplot(error, dist=\"norm\", plot=plt)\n",
    "plt.show()"
   ]
  },
  {
   "cell_type": "markdown",
   "id": "5b55538a",
   "metadata": {},
   "source": [
    "From the Q-Q plot we see more easily how the residuals deviate from the red line towards the ends of the distribution, thus, they are not normally distributed.\n",
    "\n",
    "## Homoscedasticity\n",
    "\n",
    "Homoscedasticity implies that at each level of the predictor variable(s), the variance of the residual terms should be constant. So we need to plot the residuals against the variables.\n",
    "\n",
    "Homoscedasticity, also known as homogeneity of variance, describes a situation in which the error term (that is, the “noise” or random disturbance in the relationship between the independent variables X and the dependent variable Y is the same across all the independent variables.\n",
    "\n",
    "The way to identify if the variables are homoscedastic, is to make a linear model with all the independent variables involved, calculate the residuals, and plot the residuals vs each one of the independent variables. If the distribution of the residuals is homogeneous across the variable values, then the variables are homoscedastic.\n",
    "\n",
    "There are other tests for homoscedasticity:\n",
    "\n",
    "- Residuals plot\n",
    "- Levene’s test\n",
    "- Barlett’s test\n",
    "- Goldfeld-Quandt Test\n",
    "\n",
    "But those escape the scope of this course. So for this demo I will focus on residual plot analysis."
   ]
  },
  {
   "cell_type": "code",
   "execution_count": 11,
   "id": "e1a144d5",
   "metadata": {},
   "outputs": [
    {
     "data": {
      "text/plain": [
       "Text(0, 0.5, 'Residuals')"
      ]
     },
     "execution_count": 11,
     "metadata": {},
     "output_type": "execute_result"
    },
    {
     "data": {
      "image/png": "[encoded data removed]",
      "text/plain": [
       "<Figure size 432x288 with 1 Axes>"
      ]
     },
     "metadata": {
      "needs_background": "light"
     },
     "output_type": "display_data"
    }
   ],
   "source": [
    "# plot the residuals vs one of the independent\n",
    "# variables, LSTAT in this case\n",
    "\n",
    "plt.scatter(x=X_test['LSTAT'], y=error)\n",
    "plt.xlabel('LSTAT')\n",
    "plt.ylabel('Residuals')"
   ]
  },
  {
   "cell_type": "markdown",
   "id": "b2c9ac5d",
   "metadata": {},
   "source": [
    "The residuals seem fairly homogeneously distributed across the values of LSTAT."
   ]
  },
  {
   "cell_type": "code",
   "execution_count": 12,
   "id": "719b5469",
   "metadata": {},
   "outputs": [
    {
     "data": {
      "text/plain": [
       "Text(0, 0.5, 'Residuals')"
      ]
     },
     "execution_count": 12,
     "metadata": {},
     "output_type": "execute_result"
    },
    {
     "data": {
      "image/png": "[encoded data removed]",
      "text/plain": [
       "<Figure size 432x288 with 1 Axes>"
      ]
     },
     "metadata": {
      "needs_background": "light"
     },
     "output_type": "display_data"
    }
   ],
   "source": [
    "# let's plot the residuals vs RM\n",
    "plt.scatter(x=X_test['RM'], y=error)\n",
    "plt.xlabel('RM')\n",
    "plt.ylabel('Residuals')"
   ]
  },
  {
   "cell_type": "markdown",
   "id": "97ef6bc8",
   "metadata": {},
   "source": [
    "For this variable, the residuals do not seem to be homogeneously distributed across the values of RM. In fact, low and high values of RM show higher error terms."
   ]
  },
  {
   "cell_type": "code",
   "execution_count": 13,
   "id": "931ec467",
   "metadata": {},
   "outputs": [
    {
     "data": {
      "text/plain": [
       "Text(0, 0.5, 'Residuals')"
      ]
     },
     "execution_count": 13,
     "metadata": {},
     "output_type": "execute_result"
    },
    {
     "data": {
      "image/png": "[encoded data removed]",
      "text/plain": [
       "<Figure size 432x288 with 1 Axes>"
      ]
     },
     "metadata": {
      "needs_background": "light"
     },
     "output_type": "display_data"
    }
   ],
   "source": [
    "# plot the residuals vs one of the independent\n",
    "# variables, CRIM in this case\n",
    "\n",
    "plt.scatter(x=X_test['CRIM'], y=error)\n",
    "plt.xlabel('CRIM')\n",
    "plt.ylabel('Residuals')"
   ]
  },
  {
   "cell_type": "markdown",
   "id": "d95df51d",
   "metadata": {},
   "source": [
    "Most values of CRIM are skewed towards the left, so it is hard to say if the residuals show the same variance for all values of CRIM, because we have very few data points for CRIM when its values are high."
   ]
  },
  {
   "cell_type": "markdown",
   "id": "09a28909",
   "metadata": {},
   "source": [
    "## Automating Residual analysis with Yellowbrick"
   ]
  },
  {
   "cell_type": "markdown",
   "id": "1d1af784",
   "metadata": {},
   "source": [
    "# in this cell, I want to introduce the use of yellobrick\n",
    "# a library for visualisation of machine learning model \n",
    "# performance\n",
    "\n",
    "# if you don't have yellowbricks installed, comment out\n",
    "# this cell to avoid errors while running the notebook\n",
    "\n",
    "# yellowbricks allows you to visualise the residuals of the\n",
    "# models after fitting a linear regression \n",
    "\n",
    "from yellowbrick.regressor import ResidualsPlot\n",
    "\n",
    "linreg = LinearRegression()\n",
    "linreg.fit(scaler.transform(X_train), y_train)\n",
    "visualizer = ResidualsPlot(linreg)\n",
    "\n",
    "visualizer.fit(scaler.transform(X_train), y_train)  # Fit the training data to the model\n",
    "visualizer.score(scaler.transform(X_test), y_test)  # Evaluate the model on the test data\n",
    "visualizer.poof()"
   ]
  },
  {
   "cell_type": "markdown",
   "id": "b84a94a3",
   "metadata": {},
   "source": [
    "On the right, we have the distribution of the residuals in the train and test sets. We see that it is not perfectly centered at 0.\n",
    "\n",
    "On the left, we have the residuals vs the predicted value, we also see that the variance is not constant. Towards the extremes of the predictions, the model is under-estimating the outcome (most residuals are negative). And towards the center of the predictions, the model is over-estimating the outcome. So the residuals variance is not constant for all values."
   ]
  },
  {
   "cell_type": "markdown",
   "id": "5e92a90b",
   "metadata": {},
   "source": [
    "## Transform the data to improve model fit\n",
    "\n",
    "We will use the Box-Cox transformation, which I will discuss in more detail in a later section in the course."
   ]
  },
  {
   "cell_type": "code",
   "execution_count": 14,
   "id": "d648cc5a",
   "metadata": {},
   "outputs": [
    {
     "data": {
      "text/plain": [
       "((354, 3), (152, 3), (354,), (152,))"
      ]
     },
     "execution_count": 14,
     "metadata": {},
     "output_type": "execute_result"
    }
   ],
   "source": [
    "import scipy.stats as stats\n",
    "\n",
    "# apply the box-cox transformation to the variables\n",
    "boston['LSTAT'], _ = stats.boxcox(boston['LSTAT'])\n",
    "boston['CRIM'], _ = stats.boxcox(boston['CRIM'])\n",
    "boston['RM'], _ = stats.boxcox(boston['RM'])\n",
    "\n",
    "# let's separate into training and testing set\n",
    "X_train, X_test, y_train, y_test = train_test_split(\n",
    "    boston[['RM', 'LSTAT', 'CRIM']],\n",
    "    boston['MEDV'],\n",
    "    test_size=0.3,\n",
    "    random_state=0)\n",
    "\n",
    "X_train.shape, X_test.shape, y_train.shape, y_test.shape"
   ]
  },
  {
   "cell_type": "code",
   "execution_count": 15,
   "id": "ca3509a8",
   "metadata": {},
   "outputs": [
    {
     "data": {
      "text/plain": [
       "StandardScaler()"
      ]
     },
     "execution_count": 15,
     "metadata": {},
     "output_type": "execute_result"
    }
   ],
   "source": [
    "# let's scale the features\n",
    "\n",
    "scaler = StandardScaler()\n",
    "scaler.fit(X_train)"
   ]
  },
  {
   "cell_type": "code",
   "execution_count": 16,
   "id": "fe57655d",
   "metadata": {},
   "outputs": [
    {
     "name": "stdout",
     "output_type": "stream",
     "text": [
      "Train set\n",
      "Linear Regression mse : 25.020138527672213\n",
      "Test set\n",
      "Linear Regression mse: 29.70979354458992\n",
      "\n"
     ]
    }
   ],
   "source": [
    "#model build a new model using the transformed variables\n",
    "\n",
    "#specify the model\n",
    "linreg = LinearRegression()\n",
    "\n",
    "#fit the model\n",
    "linreg.fit(scaler.transform(X_train),y_train)\n",
    "\n",
    "#make Prediction and calculate the mean squared \n",
    "#error over the train set\n",
    "\n",
    "print('Train set')\n",
    "\n",
    "pred = linreg.predict(scaler.transform(X_train))\n",
    "print('Linear Regression mse : {}'.format(mean_squared_error(y_train, pred)))\n",
    "\n",
    "#make predictions and calculate the mean squared \n",
    "#error over the test set\n",
    "\n",
    "print('Test set')\n",
    "pred = linreg.predict(scaler.transform(X_test))\n",
    "print(\"Linear Regression mse: {}\".format(mean_squared_error(y_test, pred)))\n",
    "print()"
   ]
  },
  {
   "cell_type": "markdown",
   "id": "747f0596",
   "metadata": {},
   "source": [
    "<h3> Calculate residual"
   ]
  },
  {
   "cell_type": "code",
   "execution_count": 17,
   "id": "8584ed5c",
   "metadata": {},
   "outputs": [],
   "source": [
    "#calculate the residuals\n",
    "\n",
    "error = y_test - pred"
   ]
  },
  {
   "cell_type": "markdown",
   "id": "b8d8998b",
   "metadata": {},
   "source": [
    "<h3>Residual normality"
   ]
  },
  {
   "cell_type": "code",
   "execution_count": 18,
   "id": "bd087583",
   "metadata": {},
   "outputs": [
    {
     "data": {
      "text/plain": [
       "<AxesSubplot:xlabel='MEDV', ylabel='Count'>"
      ]
     },
     "execution_count": 18,
     "metadata": {},
     "output_type": "execute_result"
    },
    {
     "data": {
      "image/png": "[encoded data removed]",
      "text/plain": [
       "<Figure size 432x288 with 1 Axes>"
      ]
     },
     "metadata": {
      "needs_background": "light"
     },
     "output_type": "display_data"
    }
   ],
   "source": [
    "#we will make a histogram to determine if the residuals \n",
    "#are normally distributed with mean value at 0\n",
    "\n",
    "sns.histplot(error, bins=30)"
   ]
  },
  {
   "cell_type": "code",
   "execution_count": 19,
   "id": "0ebce032",
   "metadata": {},
   "outputs": [
    {
     "data": {
      "image/png": "[encoded data removed]",
      "text/plain": [
       "<Figure size 432x288 with 1 Axes>"
      ]
     },
     "metadata": {
      "needs_background": "light"
     },
     "output_type": "display_data"
    }
   ],
   "source": [
    "# we can better visualize residuasl distribution with \n",
    "# a Q-Q plot. If the residuals are normally distributed\n",
    "# the dots should adjust to the 45 degree line\n",
    "\n",
    "stats.probplot(error, dist=\"norm\", plot=plt)\n",
    "plt.show()"
   ]
  },
  {
   "cell_type": "markdown",
   "id": "5499bdcc",
   "metadata": {},
   "source": [
    "We see an improvement: the residuals are now \"more\" normally distributed."
   ]
  },
  {
   "cell_type": "code",
   "execution_count": null,
   "id": "d1d4aa24",
   "metadata": {},
   "outputs": [],
   "source": [
    "# let's now do the analysis with yellowbrick\n",
    "\n",
    "from yellowbrick.regressor import ResidualsPlot\n",
    "\n",
    "linreg = LinearRegression()\n",
    "linreg.fit(scaler.transform(X_train), y_train)\n",
    "visualizer = ResidualsPlot(linreg)\n",
    "\n",
    "visualizer.fit(scaler.transform(X_train), y_train)  # Fit the training data to the model\n",
    "visualizer.score(scaler.transform(X_test), y_test)  # Evaluate the model on the test data\n",
    "visualizer.poof()"
   ]
  },
  {
   "cell_type": "markdown",
   "id": "d4a583e1",
   "metadata": {},
   "source": [
    "We can see a noticeable improvement in the distribution of the residuals, now better centered at 0, and with a more even variance across all values of the prediction.\n",
    "\n",
    "**HOMEWORK**\n",
    "\n",
    "Plot the residuals vs the transformed variables to determine homoscedasticity.\n",
    "\n",
    "**NOTE**\n",
    "\n",
    "The model performance would improve even further if we transformed the target as well. I leave that to you."
   ]
  },
  {
   "cell_type": "code",
   "execution_count": 20,
   "id": "90fb509f",
   "metadata": {},
   "outputs": [
    {
     "data": {
      "text/plain": [
       "Text(0, 0.5, 'Residuals')"
      ]
     },
     "execution_count": 20,
     "metadata": {},
     "output_type": "execute_result"
    },
    {
     "data": {
      "image/png": "[encoded data removed]",
      "text/plain": [
       "<Figure size 432x288 with 1 Axes>"
      ]
     },
     "metadata": {
      "needs_background": "light"
     },
     "output_type": "display_data"
    }
   ],
   "source": [
    "# let's plot the residuals vs RM\n",
    "plt.scatter(x=X_test['RM'], y=error)\n",
    "plt.xlabel('RM')\n",
    "plt.ylabel('Residuals')"
   ]
  },
  {
   "cell_type": "markdown",
   "id": "b93afe0d",
   "metadata": {},
   "source": [
    "## Testing other model assumptions\n",
    "\n",
    "If we have time, and want to better understand the relationships between our variables among themselves and the outcome, we can go ahead and check the linear relationship and colinearity."
   ]
  },
  {
   "cell_type": "code",
   "execution_count": 21,
   "id": "90ebacf0",
   "metadata": {},
   "outputs": [
    {
     "data": {
      "text/html": [
       "<div>\n",
       "<style scoped>\n",
       "    .dataframe tbody tr th:only-of-type {\n",
       "        vertical-align: middle;\n",
       "    }\n",
       "\n",
       "    .dataframe tbody tr th {\n",
       "        vertical-align: top;\n",
       "    }\n",
       "\n",
       "    .dataframe thead th {\n",
       "        text-align: right;\n",
       "    }\n",
       "</style>\n",
       "<table border=\"1\" class=\"dataframe\">\n",
       "  <thead>\n",
       "    <tr style=\"text-align: right;\">\n",
       "      <th></th>\n",
       "      <th>x</th>\n",
       "      <th>y</th>\n",
       "    </tr>\n",
       "  </thead>\n",
       "  <tbody>\n",
       "    <tr>\n",
       "      <th>0</th>\n",
       "      <td>-0.417482</td>\n",
       "      <td>-1.271561</td>\n",
       "    </tr>\n",
       "    <tr>\n",
       "      <th>1</th>\n",
       "      <td>0.706032</td>\n",
       "      <td>7.990600</td>\n",
       "    </tr>\n",
       "    <tr>\n",
       "      <th>2</th>\n",
       "      <td>1.915985</td>\n",
       "      <td>19.848687</td>\n",
       "    </tr>\n",
       "    <tr>\n",
       "      <th>3</th>\n",
       "      <td>-2.141755</td>\n",
       "      <td>-21.928903</td>\n",
       "    </tr>\n",
       "    <tr>\n",
       "      <th>4</th>\n",
       "      <td>0.719057</td>\n",
       "      <td>5.579070</td>\n",
       "    </tr>\n",
       "  </tbody>\n",
       "</table>\n",
       "</div>"
      ],
      "text/plain": [
       "          x          y\n",
       "0 -0.417482  -1.271561\n",
       "1  0.706032   7.990600\n",
       "2  1.915985  19.848687\n",
       "3 -2.141755 -21.928903\n",
       "4  0.719057   5.579070"
      ]
     },
     "execution_count": 21,
     "metadata": {},
     "output_type": "execute_result"
    }
   ],
   "source": [
    "# I will create a dataframe with the variable x that\n",
    "# follows a normal distribution and shows a\n",
    "# linear relationship with y\n",
    "\n",
    "# this will provide the expected plots\n",
    "# i.e., how the plots should look like if the\n",
    "# assumptions are met\n",
    "\n",
    "np.random.seed(29)\n",
    "\n",
    "n = 200\n",
    "x= np.random.randn(n)\n",
    "y = x*10 + np.random.randn(n)*2\n",
    "\n",
    "toy_df = pd.DataFrame([x,y]).T\n",
    "toy_df.columns = ['x','y']\n",
    "toy_df.head()"
   ]
  },
  {
   "cell_type": "markdown",
   "id": "4b0c2479",
   "metadata": {},
   "source": [
    "## Linear relationship\n",
    "\n",
    "We evaluate linear assumption with scatter plots and residual plots. Scatter plots plot the change in the dependent variable y with the independent variable x.\n",
    "\n",
    "### Scatter plots"
   ]
  },
  {
   "cell_type": "code",
   "execution_count": 30,
   "id": "e61b8c28",
   "metadata": {},
   "outputs": [
    {
     "data": {
      "text/plain": [
       "Text(0.5, 20.80000000000002, 'Independent variable')"
      ]
     },
     "execution_count": 30,
     "metadata": {},
     "output_type": "execute_result"
    },
    {
     "data": {
      "image/png": "[encoded data removed]",
      "text/plain": [
       "<Figure size 360x360 with 1 Axes>"
      ]
     },
     "metadata": {
      "needs_background": "light"
     },
     "output_type": "display_data"
    }
   ],
   "source": [
    "# with the simulated data\n",
    "\n",
    "# this is how the plot looks like when\n",
    "# there is a linear relationship\n",
    "\n",
    "sns.lmplot(x=\"x\", y=\"y\", data=toy_df, order=1)\n",
    "# order 1 indicates that we want seaborn to\n",
    "# estimate a linear model (the line in the plot below)\n",
    "# between x and y\n",
    "\n",
    "plt.ylabel('Target')\n",
    "plt.xlabel('Independent variable')"
   ]
  },
  {
   "cell_type": "code",
   "execution_count": 31,
   "id": "5f35b2e2",
   "metadata": {},
   "outputs": [
    {
     "data": {
      "text/plain": [
       "<seaborn.axisgrid.FacetGrid at 0x1ae370a07f0>"
      ]
     },
     "execution_count": 31,
     "metadata": {},
     "output_type": "execute_result"
    },
    {
     "data": {
      "image/png": "[encoded data removed]",
      "text/plain": [
       "<Figure size 360x360 with 1 Axes>"
      ]
     },
     "metadata": {
      "needs_background": "light"
     },
     "output_type": "display_data"
    }
   ],
   "source": [
    "# now we make a scatter plot for the boston\n",
    "# house price dataset\n",
    "\n",
    "# (remember that we transformed the variables already)\n",
    "\n",
    "# we plot LAST (% lower status of the population)\n",
    "# vs MEDV (median value of the house)\n",
    "\n",
    "sns.lmplot(x=\"RM\", y=\"MEDV\", data=boston, order=1)"
   ]
  },
  {
   "cell_type": "markdown",
   "id": "723a4b28",
   "metadata": {},
   "source": [
    "The relationship between LSTAT and MEDV is fairly linear apart from a few values around the minimal values of LSTAT, towards the top left side of the plot."
   ]
  },
  {
   "cell_type": "code",
   "execution_count": 32,
   "id": "7f942339",
   "metadata": {},
   "outputs": [
    {
     "data": {
      "text/plain": [
       "<seaborn.axisgrid.FacetGrid at 0x1ae370cea00>"
      ]
     },
     "execution_count": 32,
     "metadata": {},
     "output_type": "execute_result"
    },
    {
     "data": {
      "image/png": "[encoded data removed]",
      "text/plain": [
       "<Figure size 360x360 with 1 Axes>"
      ]
     },
     "metadata": {
      "needs_background": "light"
     },
     "output_type": "display_data"
    }
   ],
   "source": [
    "# now we plot RM (average number of rooms per dwelling)\n",
    "# vs MEDV (median value of the house)\n",
    "\n",
    "sns.lmplot(x=\"RM\", y=\"MEDV\", data=boston, order=1)"
   ]
  },
  {
   "cell_type": "code",
   "execution_count": null,
   "id": "dd78c600",
   "metadata": {},
   "outputs": [],
   "source": []
  }
 ],
 "metadata": {
  "kernelspec": {
   "display_name": "Python 3",
   "language": "python",
   "name": "python3"
  },
  "language_info": {
   "codemirror_mode": {
    "name": "ipython",
    "version": 3
   },
   "file_extension": ".py",
   "mimetype": "text/x-python",
   "name": "python",
   "nbconvert_exporter": "python",
   "pygments_lexer": "ipython3",
   "version": "3.8.8"
  }
 },
 "nbformat": 4,
 "nbformat_minor": 5
}

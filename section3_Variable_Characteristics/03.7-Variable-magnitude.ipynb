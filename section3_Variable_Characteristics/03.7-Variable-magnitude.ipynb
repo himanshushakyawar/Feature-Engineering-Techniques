{
 "cells": [
  {
   "cell_type": "markdown",
   "id": "d62b95b5",
   "metadata": {},
   "source": [
    "## Variable magnitude\n",
    "\n",
    "### Does the magnitude of the variable matter?\n",
    "\n",
    "In Linear Regression models, the scale of variables used to estimate the output matters. Linear models are of the type **y = w x + b**, where the regression coefficient w represents the expected change in y for a one unit change in x (the predictor). Thus, the magnitude of w is partly determined by the magnitude of the units being used for x. If x is a distance variable, just changing the scale from kilometers to miles will cause a change in the magnitude of the coefficient.\n",
    "\n",
    "In addition, in situations where we estimate the outcome y by contemplating multiple predictors x1, x2, ...xn, predictors with greater numeric ranges dominate over those with smaller numeric ranges.\n",
    "\n",
    "Gradient descent converges faster when all the predictors (x1 to xn) are within a similar scale, therefore having features in a similar scale is useful for Neural Networks as well as.\n",
    "\n",
    "In Support Vector Machines, feature scaling can decrease the time to find the support vectors.\n",
    "\n",
    "Finally, methods using Euclidean distances or distances in general are also affected by the magnitude of the features, as Euclidean distance is sensitive to variations in the magnitude or scales of the predictors. Therefore feature scaling is required for methods that utilise distance calculations like k-nearest neighbours (KNN) and k-means clustering.\n",
    "\n",
    "In summary:\n",
    "\n",
    "#### Magnitude matters because:\n",
    "\n",
    "- The regression coefficient is directly influenced by the scale of the variable\n",
    "- Variables with bigger magnitude / value range dominate over the ones with smaller magnitude / value range\n",
    "- Gradient descent converges faster when features are on similar scales\n",
    "- Feature scaling helps decrease the time to find support vectors for SVMs\n",
    "- Euclidean distances are sensitive to feature magnitude.\n",
    "\n",
    "#### The machine learning models affected by the magnitude of the feature are:\n",
    "\n",
    "- Linear and Logistic Regression\n",
    "- Neural Networks\n",
    "- Support Vector Machines\n",
    "- KNN\n",
    "- K-means clustering\n",
    "- Linear Discriminant Analysis (LDA)\n",
    "- Principal Component Analysis (PCA)\n",
    "\n",
    "#### Machine learning models insensitive to feature magnitude are the ones based on Trees:\n",
    "\n",
    "- Classification and Regression Trees\n",
    "- Random Forests\n",
    "- Gradient Boosted Trees"
   ]
  },
  {
   "cell_type": "markdown",
   "id": "29936c70",
   "metadata": {},
   "source": [
    "===================================================================================================\n",
    "\n",
    "## In this Demo\n",
    "\n",
    "We will study the effect of feature magnitude on the performance of different machine learning algorithms.\n",
    "\n",
    "We will use the Titanic dataset.\n",
    "\n",
    "- To download the dataset please refer to the **Datasets** lecture in **Section 1** of the course."
   ]
  },
  {
   "cell_type": "code",
   "execution_count": 1,
   "id": "5daf1b97",
   "metadata": {},
   "outputs": [],
   "source": [
    "import pandas as pd\n",
    "import numpy as np\n",
    "\n",
    "#import several machine learning algorithms\n",
    "\n",
    "from sklearn.linear_model import LogisticRegression\n",
    "from sklearn.ensemble import AdaBoostClassifier\n",
    "from sklearn.ensemble import RandomForestClassifier\n",
    "from sklearn.svm import SVC\n",
    "from sklearn.neural_network import MLPClassifier\n",
    "from sklearn.neighbors import KNeighborsClassifier\n",
    "\n",
    "#to scale the features\n",
    "from sklearn.preprocessing import MinMaxScaler\n",
    "\n",
    "#to evaluate performance and separate into\n",
    "#train and test set\n",
    "from sklearn.metrics import roc_auc_score\n",
    "from sklearn.model_selection import train_test_split"
   ]
  },
  {
   "cell_type": "markdown",
   "id": "4f505397",
   "metadata": {},
   "source": [
    "<h3>Load data with numerical variables only"
   ]
  },
  {
   "cell_type": "code",
   "execution_count": 3,
   "id": "8574ea11",
   "metadata": {},
   "outputs": [
    {
     "data": {
      "text/html": [
       "<div>\n",
       "<style scoped>\n",
       "    .dataframe tbody tr th:only-of-type {\n",
       "        vertical-align: middle;\n",
       "    }\n",
       "\n",
       "    .dataframe tbody tr th {\n",
       "        vertical-align: top;\n",
       "    }\n",
       "\n",
       "    .dataframe thead th {\n",
       "        text-align: right;\n",
       "    }\n",
       "</style>\n",
       "<table border=\"1\" class=\"dataframe\">\n",
       "  <thead>\n",
       "    <tr style=\"text-align: right;\">\n",
       "      <th></th>\n",
       "      <th>pclass</th>\n",
       "      <th>survived</th>\n",
       "      <th>age</th>\n",
       "      <th>fare</th>\n",
       "    </tr>\n",
       "  </thead>\n",
       "  <tbody>\n",
       "    <tr>\n",
       "      <th>0</th>\n",
       "      <td>1</td>\n",
       "      <td>1</td>\n",
       "      <td>29.0000</td>\n",
       "      <td>211.3375</td>\n",
       "    </tr>\n",
       "    <tr>\n",
       "      <th>1</th>\n",
       "      <td>1</td>\n",
       "      <td>1</td>\n",
       "      <td>0.9167</td>\n",
       "      <td>151.5500</td>\n",
       "    </tr>\n",
       "    <tr>\n",
       "      <th>2</th>\n",
       "      <td>1</td>\n",
       "      <td>0</td>\n",
       "      <td>2.0000</td>\n",
       "      <td>151.5500</td>\n",
       "    </tr>\n",
       "    <tr>\n",
       "      <th>3</th>\n",
       "      <td>1</td>\n",
       "      <td>0</td>\n",
       "      <td>30.0000</td>\n",
       "      <td>151.5500</td>\n",
       "    </tr>\n",
       "    <tr>\n",
       "      <th>4</th>\n",
       "      <td>1</td>\n",
       "      <td>0</td>\n",
       "      <td>25.0000</td>\n",
       "      <td>151.5500</td>\n",
       "    </tr>\n",
       "  </tbody>\n",
       "</table>\n",
       "</div>"
      ],
      "text/plain": [
       "   pclass  survived      age      fare\n",
       "0       1         1  29.0000  211.3375\n",
       "1       1         1   0.9167  151.5500\n",
       "2       1         0   2.0000  151.5500\n",
       "3       1         0  30.0000  151.5500\n",
       "4       1         0  25.0000  151.5500"
      ]
     },
     "execution_count": 3,
     "metadata": {},
     "output_type": "execute_result"
    }
   ],
   "source": [
    "data = pd.read_csv('../titanic.csv',\n",
    "                  usecols=['pclass', 'age', 'fare', 'survived'])\n",
    "data.head()"
   ]
  },
  {
   "cell_type": "code",
   "execution_count": 4,
   "id": "e1265267",
   "metadata": {},
   "outputs": [
    {
     "data": {
      "text/html": [
       "<div>\n",
       "<style scoped>\n",
       "    .dataframe tbody tr th:only-of-type {\n",
       "        vertical-align: middle;\n",
       "    }\n",
       "\n",
       "    .dataframe tbody tr th {\n",
       "        vertical-align: top;\n",
       "    }\n",
       "\n",
       "    .dataframe thead th {\n",
       "        text-align: right;\n",
       "    }\n",
       "</style>\n",
       "<table border=\"1\" class=\"dataframe\">\n",
       "  <thead>\n",
       "    <tr style=\"text-align: right;\">\n",
       "      <th></th>\n",
       "      <th>pclass</th>\n",
       "      <th>survived</th>\n",
       "      <th>age</th>\n",
       "      <th>fare</th>\n",
       "    </tr>\n",
       "  </thead>\n",
       "  <tbody>\n",
       "    <tr>\n",
       "      <th>count</th>\n",
       "      <td>1309.000000</td>\n",
       "      <td>1309.000000</td>\n",
       "      <td>1046.000000</td>\n",
       "      <td>1308.000000</td>\n",
       "    </tr>\n",
       "    <tr>\n",
       "      <th>mean</th>\n",
       "      <td>2.294882</td>\n",
       "      <td>0.381971</td>\n",
       "      <td>29.881135</td>\n",
       "      <td>33.295479</td>\n",
       "    </tr>\n",
       "    <tr>\n",
       "      <th>std</th>\n",
       "      <td>0.837836</td>\n",
       "      <td>0.486055</td>\n",
       "      <td>14.413500</td>\n",
       "      <td>51.758668</td>\n",
       "    </tr>\n",
       "    <tr>\n",
       "      <th>min</th>\n",
       "      <td>1.000000</td>\n",
       "      <td>0.000000</td>\n",
       "      <td>0.166700</td>\n",
       "      <td>0.000000</td>\n",
       "    </tr>\n",
       "    <tr>\n",
       "      <th>25%</th>\n",
       "      <td>2.000000</td>\n",
       "      <td>0.000000</td>\n",
       "      <td>21.000000</td>\n",
       "      <td>7.895800</td>\n",
       "    </tr>\n",
       "    <tr>\n",
       "      <th>50%</th>\n",
       "      <td>3.000000</td>\n",
       "      <td>0.000000</td>\n",
       "      <td>28.000000</td>\n",
       "      <td>14.454200</td>\n",
       "    </tr>\n",
       "    <tr>\n",
       "      <th>75%</th>\n",
       "      <td>3.000000</td>\n",
       "      <td>1.000000</td>\n",
       "      <td>39.000000</td>\n",
       "      <td>31.275000</td>\n",
       "    </tr>\n",
       "    <tr>\n",
       "      <th>max</th>\n",
       "      <td>3.000000</td>\n",
       "      <td>1.000000</td>\n",
       "      <td>80.000000</td>\n",
       "      <td>512.329200</td>\n",
       "    </tr>\n",
       "  </tbody>\n",
       "</table>\n",
       "</div>"
      ],
      "text/plain": [
       "            pclass     survived          age         fare\n",
       "count  1309.000000  1309.000000  1046.000000  1308.000000\n",
       "mean      2.294882     0.381971    29.881135    33.295479\n",
       "std       0.837836     0.486055    14.413500    51.758668\n",
       "min       1.000000     0.000000     0.166700     0.000000\n",
       "25%       2.000000     0.000000    21.000000     7.895800\n",
       "50%       3.000000     0.000000    28.000000    14.454200\n",
       "75%       3.000000     1.000000    39.000000    31.275000\n",
       "max       3.000000     1.000000    80.000000   512.329200"
      ]
     },
     "execution_count": 4,
     "metadata": {},
     "output_type": "execute_result"
    }
   ],
   "source": [
    "# let's have a look at the values of those variables\n",
    "# to get an idea of the feature magnitudes\n",
    "data.describe()"
   ]
  },
  {
   "cell_type": "markdown",
   "id": "c8a1a888",
   "metadata": {},
   "source": [
    "We can see that Fare varies between 0 and 512, Age between 0 and 80, and Class between 0 and 3. So the variables have different magnitude."
   ]
  },
  {
   "cell_type": "code",
   "execution_count": 5,
   "id": "d5d1c2bc",
   "metadata": {},
   "outputs": [
    {
     "name": "stdout",
     "output_type": "stream",
     "text": [
      "pclass range :  2\n",
      "age range :  79.8333\n",
      "fare range :  512.3292\n",
      "survived range :  1\n"
     ]
    }
   ],
   "source": [
    "# let's now calculate the range\n",
    "\n",
    "for col in ['pclass', 'age', 'fare', 'survived']:\n",
    "    print(col, 'range : ', data[col].max() - data[col].min())"
   ]
  },
  {
   "cell_type": "code",
   "execution_count": 6,
   "id": "503dfeac",
   "metadata": {},
   "outputs": [
    {
     "data": {
      "text/html": [
       "<div>\n",
       "<style scoped>\n",
       "    .dataframe tbody tr th:only-of-type {\n",
       "        vertical-align: middle;\n",
       "    }\n",
       "\n",
       "    .dataframe tbody tr th {\n",
       "        vertical-align: top;\n",
       "    }\n",
       "\n",
       "    .dataframe thead th {\n",
       "        text-align: right;\n",
       "    }\n",
       "</style>\n",
       "<table border=\"1\" class=\"dataframe\">\n",
       "  <thead>\n",
       "    <tr style=\"text-align: right;\">\n",
       "      <th></th>\n",
       "      <th>pclass</th>\n",
       "      <th>survived</th>\n",
       "      <th>age</th>\n",
       "      <th>fare</th>\n",
       "    </tr>\n",
       "  </thead>\n",
       "  <tbody>\n",
       "    <tr>\n",
       "      <th>0</th>\n",
       "      <td>1</td>\n",
       "      <td>1</td>\n",
       "      <td>29.0000</td>\n",
       "      <td>211.3375</td>\n",
       "    </tr>\n",
       "    <tr>\n",
       "      <th>1</th>\n",
       "      <td>1</td>\n",
       "      <td>1</td>\n",
       "      <td>0.9167</td>\n",
       "      <td>151.5500</td>\n",
       "    </tr>\n",
       "    <tr>\n",
       "      <th>2</th>\n",
       "      <td>1</td>\n",
       "      <td>0</td>\n",
       "      <td>2.0000</td>\n",
       "      <td>151.5500</td>\n",
       "    </tr>\n",
       "    <tr>\n",
       "      <th>3</th>\n",
       "      <td>1</td>\n",
       "      <td>0</td>\n",
       "      <td>30.0000</td>\n",
       "      <td>151.5500</td>\n",
       "    </tr>\n",
       "    <tr>\n",
       "      <th>4</th>\n",
       "      <td>1</td>\n",
       "      <td>0</td>\n",
       "      <td>25.0000</td>\n",
       "      <td>151.5500</td>\n",
       "    </tr>\n",
       "    <tr>\n",
       "      <th>...</th>\n",
       "      <td>...</td>\n",
       "      <td>...</td>\n",
       "      <td>...</td>\n",
       "      <td>...</td>\n",
       "    </tr>\n",
       "    <tr>\n",
       "      <th>1303</th>\n",
       "      <td>3</td>\n",
       "      <td>0</td>\n",
       "      <td>NaN</td>\n",
       "      <td>14.4583</td>\n",
       "    </tr>\n",
       "    <tr>\n",
       "      <th>1304</th>\n",
       "      <td>3</td>\n",
       "      <td>0</td>\n",
       "      <td>14.5000</td>\n",
       "      <td>14.4542</td>\n",
       "    </tr>\n",
       "    <tr>\n",
       "      <th>1305</th>\n",
       "      <td>3</td>\n",
       "      <td>0</td>\n",
       "      <td>NaN</td>\n",
       "      <td>14.4542</td>\n",
       "    </tr>\n",
       "    <tr>\n",
       "      <th>1306</th>\n",
       "      <td>3</td>\n",
       "      <td>0</td>\n",
       "      <td>26.5000</td>\n",
       "      <td>7.2250</td>\n",
       "    </tr>\n",
       "    <tr>\n",
       "      <th>1307</th>\n",
       "      <td>3</td>\n",
       "      <td>0</td>\n",
       "      <td>27.0000</td>\n",
       "      <td>7.2250</td>\n",
       "    </tr>\n",
       "  </tbody>\n",
       "</table>\n",
       "<p>1308 rows × 4 columns</p>\n",
       "</div>"
      ],
      "text/plain": [
       "      pclass  survived      age      fare\n",
       "0          1         1  29.0000  211.3375\n",
       "1          1         1   0.9167  151.5500\n",
       "2          1         0   2.0000  151.5500\n",
       "3          1         0  30.0000  151.5500\n",
       "4          1         0  25.0000  151.5500\n",
       "...      ...       ...      ...       ...\n",
       "1303       3         0      NaN   14.4583\n",
       "1304       3         0  14.5000   14.4542\n",
       "1305       3         0      NaN   14.4542\n",
       "1306       3         0  26.5000    7.2250\n",
       "1307       3         0  27.0000    7.2250\n",
       "\n",
       "[1308 rows x 4 columns]"
      ]
     },
     "execution_count": 6,
     "metadata": {},
     "output_type": "execute_result"
    }
   ],
   "source": [
    "data"
   ]
  },
  {
   "cell_type": "markdown",
   "id": "d9e84ce3",
   "metadata": {},
   "source": [
    "The range of values that each variable can take are quite different."
   ]
  },
  {
   "cell_type": "code",
   "execution_count": 9,
   "id": "f8eed7eb",
   "metadata": {},
   "outputs": [
    {
     "data": {
      "text/plain": [
       "((916, 3), (393, 3))"
      ]
     },
     "execution_count": 9,
     "metadata": {},
     "output_type": "execute_result"
    }
   ],
   "source": [
    "# let's separate into training and testing set\n",
    "# the titanic dataset contains missing information\n",
    "# so for this demo, I will fill those in with 0s\n",
    "\n",
    "\n",
    "X_train, X_test, y_train, y_test = train_test_split(data[['pclass','age','fare']].fillna(0), data.survived,\n",
    "                                                   test_size=0.3,\n",
    "                                                   random_state=0)\n",
    "\n",
    "X_train.shape, X_test.shape"
   ]
  },
  {
   "cell_type": "markdown",
   "id": "fdc08be6",
   "metadata": {},
   "source": [
    "### Feature Scaling"
   ]
  },
  {
   "cell_type": "markdown",
   "id": "a5804ca9",
   "metadata": {},
   "source": [
    "For this demonstration, I will scale the features between 0 and 1, using the MinMaxScaler from scikit-learn. To learn more about this scaling visit the Scikit-Learn [website](http://scikit-learn.org/stable/modules/generated/sklearn.preprocessing.MinMaxScaler.html)\n",
    "\n",
    "The transformation is given by:\n",
    "\n",
    "X_rescaled = X - X.min() / (X.max - X.min()\n",
    "\n",
    "And to transform the re-scaled features back to their original magnitude:\n",
    "\n",
    "X = X_rescaled * (max - min) + min\n",
    "\n",
    "**There is a dedicated section to feature scaling later in the course, where I will explain this and other scaling techniques in more detail**. For now, let's carry on with the demonstration."
   ]
  },
  {
   "cell_type": "code",
   "execution_count": 10,
   "id": "88ec820a",
   "metadata": {},
   "outputs": [],
   "source": [
    "#scale the features between 0 and 1\n",
    "\n",
    "#cal the scaler\n",
    "\n",
    "scaler = MinMaxScaler()\n",
    "\n",
    "#fit the scaler\n",
    "scaler.fit(X_train)\n",
    "\n",
    "#re scale the datasets\n",
    "X_train_scaled = scaler.transform(X_train)\n",
    "X_test_scaled = scaler.transform(X_test)\n"
   ]
  },
  {
   "cell_type": "code",
   "execution_count": 11,
   "id": "0a5acbbb",
   "metadata": {},
   "outputs": [
    {
     "name": "stdout",
     "output_type": "stream",
     "text": [
      "Mean :  [0.64628821 0.33048359 0.06349833]\n",
      "Standard Deviation:  [0.42105785 0.23332045 0.09250036]\n",
      "Minimum value:  [0. 0. 0.]\n",
      "Maximum value:  [1. 1. 1.]\n"
     ]
    }
   ],
   "source": [
    "#lets look at the Training dataset after transformation\n",
    "\n",
    "print(\"Mean : \", X_train_scaled.mean(axis=0))\n",
    "print(\"Standard Deviation: \", X_train_scaled.std(axis=0))\n",
    "print('Minimum value: ', X_train_scaled.min(axis=0))\n",
    "print('Maximum value: ',X_train_scaled.max(axis=0))"
   ]
  },
  {
   "cell_type": "markdown",
   "id": "7844436c",
   "metadata": {},
   "source": [
    "Now, the maximum values for all the features is 1, and the minimum value is zero, as expected. So they are in a more similar scale."
   ]
  },
  {
   "cell_type": "markdown",
   "id": "43ff84d5",
   "metadata": {},
   "source": [
    "### Logistic Regression\n",
    "\n",
    "Let's evaluate the effect of feature scaling in a Logistic Regression."
   ]
  },
  {
   "cell_type": "code",
   "execution_count": 13,
   "id": "eb0b6c12",
   "metadata": {},
   "outputs": [
    {
     "name": "stdout",
     "output_type": "stream",
     "text": [
      "Train set\n",
      "Logistic Regression roc-auc : 0.6793181006244372\n",
      "Test set\n",
      "Logistic Regression roc-auc : 0.7175488081411426\n"
     ]
    }
   ],
   "source": [
    "#model building on the unscaled dataset\n",
    "\n",
    "#call the model\n",
    "\n",
    "logit = LogisticRegression(random_state=44,\n",
    "                           C =1000,# c big to avoid regularization\n",
    "                          solver ='lbfgs')\n",
    "\n",
    "#train the model\n",
    "logit.fit(X_train, y_train)\n",
    "\n",
    "#Evaluate performance\n",
    "print('Train set')\n",
    "pred = logit.predict_proba(X_train)\n",
    "print(\"Logistic Regression roc-auc : {}\".format(roc_auc_score(y_train, pred[:,1])))\n",
    "print('Test set')\n",
    "pred = logit.predict_proba(X_test)\n",
    "print(\"Logistic Regression roc-auc : {}\".format(roc_auc_score(y_test, pred[:,1])))\n"
   ]
  },
  {
   "cell_type": "code",
   "execution_count": 14,
   "id": "a4d4d9e7",
   "metadata": {},
   "outputs": [
    {
     "data": {
      "text/plain": [
       "array([[-0.71428242, -0.00923013,  0.00425235]])"
      ]
     },
     "execution_count": 14,
     "metadata": {},
     "output_type": "execute_result"
    }
   ],
   "source": [
    "# let's look at the coefficients\n",
    "logit.coef_"
   ]
  },
  {
   "cell_type": "code",
   "execution_count": 15,
   "id": "a3d16982",
   "metadata": {},
   "outputs": [
    {
     "name": "stdout",
     "output_type": "stream",
     "text": [
      "Train set\n",
      "Logistic Regression roc-auc : 0.6793281640744896\n",
      "Test set\n",
      "Logistic Regression roc-auc : 0.7175488081411426\n"
     ]
    }
   ],
   "source": [
    "# model builting on scaled variable\n",
    "\n",
    "#call the model\n",
    "logit = LogisticRegression(random_state=44,\n",
    "                           C =1000,# c big to avoid regularization\n",
    "                          solver ='lbfgs')\n",
    "\n",
    "#train the model\n",
    "logit.fit(X_train_scaled, y_train)\n",
    "\n",
    "#Evaluate performance\n",
    "print('Train set')\n",
    "pred = logit.predict_proba(X_train_scaled)\n",
    "print(\"Logistic Regression roc-auc : {}\".format(roc_auc_score(y_train, pred[:,1])))\n",
    "print('Test set')\n",
    "pred = logit.predict_proba(X_test_scaled)\n",
    "print(\"Logistic Regression roc-auc : {}\".format(roc_auc_score(y_test, pred[:,1])))\n"
   ]
  },
  {
   "cell_type": "code",
   "execution_count": 16,
   "id": "dcb66aba",
   "metadata": {},
   "outputs": [
    {
     "data": {
      "text/plain": [
       "array([[-1.42875872, -0.68293349,  2.17646757]])"
      ]
     },
     "execution_count": 16,
     "metadata": {},
     "output_type": "execute_result"
    }
   ],
   "source": [
    "logit.coef_"
   ]
  },
  {
   "cell_type": "markdown",
   "id": "9f8bb925",
   "metadata": {},
   "source": [
    "We observe that the **performance of logistic regression did not change** when using the datasets with the features scaled (compare roc-auc values for train and test set for models with and without feature scaling). \n",
    "\n",
    "However, when **looking at the coefficients we do see a big difference in the values.** This is because the magnitude of the variable was affecting the coefficients. After scaling, all 3 variables have the relatively the same effect (coefficient) towards survival, whereas before scaling, we would be inclined to think that PClass was driving the Survival outcome."
   ]
  },
  {
   "cell_type": "markdown",
   "id": "76074755",
   "metadata": {},
   "source": [
    "<h3>Support Vector Machines"
   ]
  },
  {
   "cell_type": "code",
   "execution_count": 19,
   "id": "3eba6c29",
   "metadata": {},
   "outputs": [
    {
     "name": "stdout",
     "output_type": "stream",
     "text": [
      "Train set\n",
      "SVM roc_auc: 0.882393490960506\n",
      "Test Set\n",
      "SVM roc_auc: 0.6617581992146452\n"
     ]
    }
   ],
   "source": [
    "#model building on unscaled dataset\n",
    "\n",
    "SVM_model = SVC(random_state=44, probability=True, gamma='auto')\n",
    "\n",
    "#train the model\n",
    "SVM_model.fit(X_train, y_train)\n",
    "\n",
    "#evaluate the performance of the model\n",
    "\n",
    "print('Train set')\n",
    "pred = SVM_model.predict_proba(X_train)\n",
    "print('SVM roc_auc: {0}'.format(roc_auc_score(y_train,pred[:,1])))\n",
    "\n",
    "print(\"Test Set\")\n",
    "pred = SVM_model.predict_proba(X_test)\n",
    "print('SVM roc_auc: {0}'.format(roc_auc_score(y_test,pred[:,1])))\n"
   ]
  },
  {
   "cell_type": "code",
   "execution_count": 20,
   "id": "40684f38",
   "metadata": {},
   "outputs": [
    {
     "name": "stdout",
     "output_type": "stream",
     "text": [
      "Train set\n",
      "SVM roc_auc: 0.6780802962679695\n",
      "Test Set\n",
      "SVM roc_auc: 0.6841435761296388\n"
     ]
    }
   ],
   "source": [
    "#model building on scaled dataset\n",
    "\n",
    "SVM_model = SVC(random_state=44, probability=True, gamma='auto')\n",
    "\n",
    "#train the model\n",
    "SVM_model.fit(X_train_scaled, y_train)\n",
    "\n",
    "#evaluate the performance of the model\n",
    "\n",
    "print('Train set')\n",
    "pred = SVM_model.predict_proba(X_train_scaled)\n",
    "print('SVM roc_auc: {0}'.format(roc_auc_score(y_train,pred[:,1])))\n",
    "\n",
    "print(\"Test Set\")\n",
    "pred = SVM_model.predict_proba(X_test_scaled)\n",
    "print('SVM roc_auc: {0}'.format(roc_auc_score(y_test,pred[:,1])))"
   ]
  },
  {
   "cell_type": "markdown",
   "id": "71c980d2",
   "metadata": {},
   "source": [
    "Feature scaling **improved the performance** of the support vector machine. After feature scaling the model is **no longer over-fitting** to the training set (compare the roc-auc of 0.881 for the model on unscaled features vs the roc-auc of 0.68). In addition, the roc-auc for the testing set increased as well (0.66 vs 0.68)."
   ]
  },
  {
   "cell_type": "markdown",
   "id": "0af76362",
   "metadata": {},
   "source": [
    "<h3>K-Nearest Neighbours"
   ]
  },
  {
   "cell_type": "code",
   "execution_count": 22,
   "id": "b56cb8d4",
   "metadata": {},
   "outputs": [
    {
     "name": "stdout",
     "output_type": "stream",
     "text": [
      "Train Set\n",
      "KNN roc-auc: 0.8131141849360215\n",
      "Test Set\n",
      "KNN roc-auc: 0.6947901111664178\n"
     ]
    }
   ],
   "source": [
    "#Model built on unscaled feature\n",
    "\n",
    "#call the model\n",
    "KNN =KNeighborsClassifier(n_neighbors=5)\n",
    "\n",
    "#Train the model\n",
    "KNN.fit(X_train,y_train)\n",
    "\n",
    "#Evaluating the model performance\n",
    "print('Train Set')\n",
    "pred = KNN.predict_proba(X_train)\n",
    "print(\"KNN roc-auc: {0}\".format(roc_auc_score(y_train, pred[:,1])))\n",
    "\n",
    "print('Test Set')\n",
    "pred = KNN.predict_proba(X_test)\n",
    "print(\"KNN roc-auc: {0}\".format(roc_auc_score(y_test, pred[:,1])))"
   ]
  },
  {
   "cell_type": "code",
   "execution_count": 23,
   "id": "329ffeb5",
   "metadata": {},
   "outputs": [
    {
     "name": "stdout",
     "output_type": "stream",
     "text": [
      "Train Set\n",
      "KNN roc-auc: 0.826928785995703\n",
      "Test Set\n",
      "KNN roc-auc: 0.7232453957192633\n"
     ]
    }
   ],
   "source": [
    "#Model built on scaled feature\n",
    "\n",
    "#call the model\n",
    "KNN =KNeighborsClassifier(n_neighbors=5)\n",
    "\n",
    "#Train the model\n",
    "KNN.fit(X_train_scaled,y_train)\n",
    "\n",
    "#Evaluating the model performance\n",
    "print('Train Set')\n",
    "pred = KNN.predict_proba(X_train_scaled)\n",
    "print(\"KNN roc-auc: {0}\".format(roc_auc_score(y_train, pred[:,1])))\n",
    "\n",
    "print('Test Set')\n",
    "pred = KNN.predict_proba(X_test_scaled)\n",
    "print(\"KNN roc-auc: {0}\".format(roc_auc_score(y_test, pred[:,1])))"
   ]
  },
  {
   "cell_type": "markdown",
   "id": "741119ca",
   "metadata": {},
   "source": [
    "We observe for KNN as well that feature scaling **improved the performance of the model.** The model built on unscaled features shows a better generalisation, with a higher roc-auc for the testing set (0.72 vs 0.69 for model built on unscaled features).\n",
    "\n",
    "**Both KNN methods are over-fitting to the train set.** Thus, we would need to change the parameters of the model or use less features to try and decrease over-fitting, which exceeds the purpose of this demonstration."
   ]
  },
  {
   "cell_type": "markdown",
   "id": "7bba05b3",
   "metadata": {},
   "source": [
    "<h3>Random Forest\n",
    "   "
   ]
  },
  {
   "cell_type": "code",
   "execution_count": 24,
   "id": "e4f45e9f",
   "metadata": {},
   "outputs": [
    {
     "name": "stdout",
     "output_type": "stream",
     "text": [
      "Train set\n",
      "Random Forest roc_auc : 0.9866810238554083\n",
      "Test set\n",
      "Random Forest roc_auc : 0.7326751838946961\n"
     ]
    }
   ],
   "source": [
    "\n",
    "#model built on unscaled features\n",
    "\n",
    "#call the model\n",
    "rf = RandomForestClassifier(n_estimators=200, random_state=39)\n",
    "\n",
    "#Train the model\n",
    "rf.fit(X_train,y_train)\n",
    "\n",
    "#Evaluate Performance\n",
    "print('Train set')\n",
    "pred = rf.predict_proba(X_train)\n",
    "print(\"Random Forest roc_auc : {0}\".format(roc_auc_score(y_train, pred[:,1])))\n",
    "\n",
    "print('Test set')\n",
    "pred = rf.predict_proba(X_test)\n",
    "print(\"Random Forest roc_auc : {0}\".format(roc_auc_score(y_test, pred[:,1])))"
   ]
  },
  {
   "cell_type": "code",
   "execution_count": 25,
   "id": "a9f59387",
   "metadata": {},
   "outputs": [
    {
     "name": "stdout",
     "output_type": "stream",
     "text": [
      "Train set\n",
      "Random Forest roc_auc : 0.9867917218059866\n",
      "Test set\n",
      "Random Forest roc_auc : 0.7312510370001659\n"
     ]
    }
   ],
   "source": [
    "\n",
    "#model built on scaled features\n",
    "\n",
    "#call the model\n",
    "rf = RandomForestClassifier(n_estimators=200, random_state=39)\n",
    "\n",
    "#Train the model\n",
    "rf.fit(X_train_scaled,y_train)\n",
    "\n",
    "#Evaluate Performance\n",
    "print('Train set')\n",
    "pred = rf.predict_proba(X_train_scaled)\n",
    "print(\"Random Forest roc_auc : {0}\".format(roc_auc_score(y_train, pred[:,1])))\n",
    "\n",
    "print('Test set')\n",
    "pred = rf.predict_proba(X_test_scaled)\n",
    "print(\"Random Forest roc_auc : {0}\".format(roc_auc_score(y_test, pred[:,1])))"
   ]
  },
  {
   "cell_type": "markdown",
   "id": "3f1d5df3",
   "metadata": {},
   "source": [
    "As expected, **Random Forests shows no change in performance** regardless of whether it is trained on a dataset with scaled or unscaled features. This model in particular, is **over-fitting** to the training set. So we need to do some work to remove the over-fitting. That exceeds the scope of this demonstration."
   ]
  },
  {
   "cell_type": "code",
   "execution_count": 26,
   "id": "697bd8ea",
   "metadata": {},
   "outputs": [
    {
     "name": "stdout",
     "output_type": "stream",
     "text": [
      "Train set\n",
      "Ada Boost roc_auc: 0.7970629821021541\n",
      "Test set\n",
      "Ada Boost roc_auc: 0.7473867595818815\n"
     ]
    }
   ],
   "source": [
    "#Train the model on unscaled dataset\n",
    "\n",
    "#call the model\n",
    "ada = AdaBoostClassifier(n_estimators=200, random_state=44)\n",
    "\n",
    "#train the model\n",
    "ada.fit(X_train, y_train)\n",
    "\n",
    "#Evaluate model performance\n",
    "print('Train set')\n",
    "pred = ada.predict_proba(X_train)\n",
    "print('Ada Boost roc_auc: {0}'.format(roc_auc_score(y_train,pred[:,1])))\n",
    "\n",
    "print('Test set')\n",
    "pred = ada.predict_proba(X_test)\n",
    "print('Ada Boost roc_auc: {0}'.format(roc_auc_score(y_test,pred[:,1])))"
   ]
  },
  {
   "cell_type": "code",
   "execution_count": 27,
   "id": "23dbab4b",
   "metadata": {},
   "outputs": [
    {
     "name": "stdout",
     "output_type": "stream",
     "text": [
      "Train set\n",
      "Ada Boost roc_auc: 0.7970629821021541\n",
      "Test set\n",
      "Ada Boost roc_auc: 0.7475250262706707\n"
     ]
    }
   ],
   "source": [
    "#Train the model on scaled dataset\n",
    "\n",
    "#call the model\n",
    "ada = AdaBoostClassifier(n_estimators=200, random_state=44)\n",
    "\n",
    "#train the model\n",
    "ada.fit(X_train_scaled, y_train)\n",
    "\n",
    "#Evaluate model performance\n",
    "print('Train set')\n",
    "pred = ada.predict_proba(X_train_scaled)\n",
    "print('Ada Boost roc_auc: {0}'.format(roc_auc_score(y_train,pred[:,1])))\n",
    "\n",
    "print('Test set')\n",
    "pred = ada.predict_proba(X_test_scaled)\n",
    "print('Ada Boost roc_auc: {0}'.format(roc_auc_score(y_test,pred[:,1])))"
   ]
  },
  {
   "cell_type": "markdown",
   "id": "dd4f2d50",
   "metadata": {},
   "source": [
    "As expected, AdaBoost shows **no change in performance** regardless of whether it is trained on a dataset with scaled or unscaled features"
   ]
  },
  {
   "cell_type": "markdown",
   "id": "8f2a458d",
   "metadata": {},
   "source": [
    "**That is all for this demonstration. I hope you enjoyed the notebook, and see you in the next one.**"
   ]
  }
 ],
 "metadata": {
  "kernelspec": {
   "display_name": "Python 3",
   "language": "python",
   "name": "python3"
  },
  "language_info": {
   "codemirror_mode": {
    "name": "ipython",
    "version": 3
   },
   "file_extension": ".py",
   "mimetype": "text/x-python",
   "name": "python",
   "nbconvert_exporter": "python",
   "pygments_lexer": "ipython3",
   "version": "3.8.8"
  }
 },
 "nbformat": 4,
 "nbformat_minor": 5
}
